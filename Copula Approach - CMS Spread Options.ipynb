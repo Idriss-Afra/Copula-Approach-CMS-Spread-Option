{
 "cells": [
  {
   "cell_type": "markdown",
   "metadata": {
    "id": "v2P-tTXdyfNP"
   },
   "source": [
    "# Copula Approach : CMS Spread Options\n",
    "--------------------------------------\n",
    "> **Idriss Afra**\n",
    "\n",
    "This project aims to price CMS Spread Options using the Copula approach."
   ]
  },
  {
   "cell_type": "markdown",
   "metadata": {
    "id": "wLT2aD_fz7Hi"
   },
   "source": [
    "## Model Description\n",
    "\n",
    "CMS spread derivatives are popular financial instruments whose payoff is function of spread between two swap rates with different tenors. In fact, they are traded by parties seeking to take advantage from future changes in the yield curve slopes.\n",
    "\n",
    "Let us assume a CMS spread caplet (Similar reasoning for Floorlets) paying $MAX\\left(S^1_{T_f} - S^2_{T_f} -K; 0\\right)$  at $T_p$, where :\n",
    "\n",
    "* $T_f$ is the expiry (fixing) date\n",
    "* $S^1$ is the forward swap rate of tenor $T_1$\n",
    "* $S^2$ is the forward swap rate of tenor $T_2$\n",
    "* $K$ is the strike spread rate\n",
    "\n",
    "The price of this caplet under the $T_p$-forward measure $Q^{T_p}$ is :    \n",
    "\n",
    "\\begin{equation}\n",
    "\\begin{split}\n",
    "PV & = B(0, Tp) \\times E^{Q^{T_p}} \\left( MAX\\left(S^1_{T_f} - S^2_{T_f} -K; 0\\right) \\right) \\\\\n",
    "& = B(0, Tp) \\times E^{Q^{T_p}} \\left( MAX\\left(CMS^1_{T_f} - CMS^2_{T_f} -K; 0\\right) \\right)  \\\\\n",
    "\\end{split}\n",
    "\\end{equation}\n",
    "\n",
    "Where :    \n",
    "\n",
    "* $B(0, Tp)$ is the zero-coupon price up to $T_p$ (discount factor)\n",
    "* $CMS^1_{t} = E^{Q^{T_p}}_t(S^1_{T_f})$ is the forward Constant Maturity Swap (CMS) of tenor $T_1$ and payment date $T_p$\n",
    "* $CMS^2_{t} = E^{Q^{T_p}}_t(S^2_{T_f})$ is the forward Constant Maturity Swap\n",
    " (CMS) of tenor $T_2$ and payment date $T_p$\n",
    "\n",
    "Hence the name of \"CMS Spread Option\" given to these products...\n",
    "\n",
    "The price formula can then be re-written as :    \n",
    "\n",
    "\\begin{equation}\n",
    "\\begin{split}\n",
    "PV & = B(0, Tp) × ∫_{-∞}^{+∞}∫_{-∞}^{+∞} MAX\\left(s_1 - s_2 - K; 0\\right) × f^{Q^{Tp}}_{S^1_{T_f}, S^2_{T_f}}(s_1, s_2) ds_1 ds_2 \\\\\n",
    "& = B(0, Tp) × ∫_{-∞}^{+∞}∫_{-∞}^{+∞} MAX(s_1 - s_2 - K; 0) × c_{S^1_{T_f}, S^2_{T_f}}\\left(F^{Q^{Tp}}_{S^1_{T_f}}(s_1), F^{Q^{Tp}}_{S^2_{T_f}}(s_2)\\right) × f^{Q^{Tp}}_{S^1_{T_f}}(s_1), f^{Q^{Tp}}_{S^2_{T_f}}(s_2) ds_1 ds_2\n",
    "\\end{split}\n",
    "\\end{equation}\n",
    "\n",
    "Where :    \n",
    "\n",
    "* $f^{Q^{Tp}}_{S^1_{T_f}, S^2_{T_f}}$ is the joint PDF of $(S^1_{T_f}, S^2_{T_f})$ under $Q^{Tp}$\n",
    "* $F^{Q^{Tp}}_{S^i_{T_f}}$ and $f^{Q^{Tp}}_{S^i_{T_f}}$ are respectively the CDF and PDF of $S^i_{T_f}$ under $Q^{Tp}$\n",
    "* $c_{S^1_{T_f}, S^2_{T_f}}$ is the copula density function of $(S^1_{T_f}, S^2_{T_f})$\n",
    "\n",
    "In this project, we will use the bivariate Gaussian copula density since the other copulas need extra parameters which are difficult or impossible to calibrate.\n",
    "\n",
    "#### PDF under the Level Measure\n",
    "\n",
    "Under the level measure $Q^{LVL}$, the PDF of $S_{T_f}$ can be stripped from OTM swaptions forward prices via the Breeden & Litzenberger formula :\n",
    "\n",
    "\\begin{equation}\n",
    "\\begin{split}\n",
    "f^{Q^{LVL}}_{S_{T_f}}(K) & = \\frac{d^2PV_{Swaption}(T_f, K)}{dK^2} \\\\\n",
    "\\end{split}\n",
    "\\end{equation}\n",
    "\n",
    "<br>Where : $PV_{Swaption}(T_f, K) = E^{Q^{LVL}}\\left(MAX\\left(S_{T_f} - K; 0\\right)\\right)$, if : $K \\ge S_0$ \\\\\n",
    "\n",
    "Otherwise  : $PV_{Swaption}(T_f, K) = E^{Q^{LVL}}\\left(MAX\\left(K - S_{T_f}; 0\\right)\\right)$  \n",
    "\n",
    "In this project, we will consider the normal (Bachelier) model as market model for swaptions and we will use the finite difference method to strip the PDF. We note that shifting the strike rate should have an impact on the used normal volatility.\n",
    "\n",
    "#### PDF & CDF under the Forward Measure\n",
    "\n",
    "Thanks to the Radon-Nikodym theorem, we can link the PDFs of $S_{T_f}$ under the level $Q^{LVL}$ and forward $Q^{T_p}$ measures  :\n",
    "\n",
    "\\begin{equation}\n",
    "\\begin{split}\n",
    "f^{Q^{T_p}}_{S_{T_f}}(s) & = \\frac{LVL_0}{B(0, T_p)} × g(s) × f^{Q^{LVL}}_{S_{T_f}}(s) \\\\\n",
    "\\end{split}\n",
    "\\end{equation}\n",
    "\n",
    "Where :\n",
    "* $g\\left(S(T_f, T_0, T_1)\\right) := \\frac{B(T_f, T_p)}{LVL(T_f,T_0, T_1)}$ is the TSR function\n",
    "\n",
    "* $LVL_0 = ∑_{T^p_i ∈ SwapPayDates} DCF_i × B(0, T^p_{i})$ ($DCF$ : Day Count Fraction)\n",
    "\n",
    "The CDF of $S_{T_f}$ under the forward measure is then computed as follows :   \n",
    "\n",
    "\\begin{equation}\n",
    "\\begin{split}\n",
    "F^{Q^{T_p}}_{S_{T_f}}(s) & = \\frac{LVL_0}{B(0, T_p)} × ∫_{-∞}^s g(u) × f^{Q^{LVL}}_{S_{T_f}}(u)du \\\\\n",
    "\\end{split}\n",
    "\\end{equation}\n",
    "\n",
    "In this project, we will use the Mean Reversion Linear TSR model to define the function $g$."
   ]
  },
  {
   "cell_type": "markdown",
   "metadata": {
    "id": "d48DwYTbJXYs"
   },
   "source": [
    "## TSR Model : Mean Reversion Linear\n",
    "\n",
    "We first implement the TSR model class. More details are provided in [CMS Convexity Adjustment](https://github.com/Idriss-Afra/CMS-Convexity-Adjustment/blob/main/CMS%20Convexity%20Adjustment.ipynb)."
   ]
  },
  {
   "cell_type": "code",
   "execution_count": 1,
   "metadata": {
    "id": "D-yEtagtJXj6"
   },
   "outputs": [],
   "source": [
    "import numpy as np\n",
    "\n",
    "class tsr_model :\n",
    "    \"\"\"\n",
    "    TSR model : Mean Reversion Linear flavor\n",
    "    \"\"\"\n",
    "    def __init__(self, df, mean_reversion=0.015) :\n",
    "        \"\"\"\n",
    "        Init method : df is the discount curve function and the HW-1F mean reversion is defaulted to 1.5%\n",
    "        \"\"\"\n",
    "        self.df = df\n",
    "        self.mean_reversion = mean_reversion\n",
    "\n",
    "    def beta(self, t, T) :\n",
    "        \"\"\"\n",
    "        HW-1F Beta function\n",
    "        \"\"\"\n",
    "        return (1 - np.exp(-self.mean_reversion * (T - t))) / self.mean_reversion\n",
    "\n",
    "    def tsr_coeffs(self, expiry, tenor, pay_date) :\n",
    "        \"\"\"\n",
    "        TSR coefficients formulas\n",
    "        \"\"\"\n",
    "        # Dates\n",
    "        start_time = expiry + 2./365.\n",
    "        # Swap fixed leg payment dates : Annually\n",
    "        pay_times = np.arange(start_time + 1, expiry + tenor + 1)\n",
    "        year_fractions = np.ones(len(pay_times))\n",
    "\n",
    "        # Intermidiate Variables\n",
    "        df_start_time = self.df(start_time)\n",
    "        df_pay_times = self.df(pay_times)\n",
    "        level = np.sum(df_pay_times * year_fractions)\n",
    "        swap_fwd = (df_start_time - df_pay_times[-1]) / level\n",
    "        gamma = np.sum(df_pay_times * year_fractions * self.beta(expiry, pay_times)) / level\n",
    "\n",
    "        # Results\n",
    "        num = self.df(pay_date) * (gamma - self.beta(expiry, pay_date))\n",
    "        den = df_pay_times[-1] * self.beta(expiry, pay_times[-1]) + level * swap_fwd * gamma\n",
    "        a = num / den\n",
    "        b = self.df(pay_date) / level - a * swap_fwd\n",
    "\n",
    "        return {\"a\" : a, \"b\" : b}"
   ]
  },
  {
   "cell_type": "markdown",
   "metadata": {
    "id": "2AukVl0pXazy"
   },
   "source": [
    "## IR Swaption :  The Normal Model\n",
    "\n",
    "Then, we implement the Swaption instrument class :"
   ]
  },
  {
   "cell_type": "code",
   "execution_count": 2,
   "metadata": {
    "id": "zfcw6-q1XbBp"
   },
   "outputs": [],
   "source": [
    "from scipy.stats import norm\n",
    "import math\n",
    "\n",
    "class swaption :\n",
    "    \"\"\"\n",
    "    Vanilla instrument \"Swaption\"\n",
    "    \"\"\"\n",
    "    def __init__(self, payer_receiver, expiry, tenor, strike, notional = 1.):\n",
    "        \"\"\"\n",
    "        Init method\n",
    "        \"\"\"\n",
    "        self.payer_receiver = payer_receiver\n",
    "        self.expiry = expiry\n",
    "        self.strike = strike\n",
    "        self.notional = notional\n",
    "        self.start_time = expiry + 2./365.\n",
    "        # Fixed leg payment dates : Annually\n",
    "        self.pay_times = np.arange(self.start_time + 1, expiry + tenor + 1)\n",
    "        self.year_fractions = np.ones(len(self.pay_times))\n",
    "\n",
    "    def set_market_data(self, df, normal_vol):\n",
    "        \"\"\"\n",
    "        Store DFs values to save computation time\n",
    "        \"\"\"\n",
    "        self.df_exp_time = df(self.expiry)\n",
    "        self.df_start_time = df(self.start_time)\n",
    "        self.df_pay_times = df(self.pay_times)\n",
    "        self.normal_vol = normal_vol\n",
    "\n",
    "    def level(self) :\n",
    "      \"\"\"\n",
    "      The level function : Sum of DCF(T(i)) * B(0, T(i)) where T(i) are the fixed leg pay dates\n",
    "      \"\"\"\n",
    "      return np.sum(self.df_pay_times * self.year_fractions)\n",
    "\n",
    "    def forward(self):\n",
    "        \"\"\"\n",
    "        The forward level of the swap rate\n",
    "        \"\"\"\n",
    "        return (self.df_start_time - self.df_pay_times[-1]) / self.level()\n",
    "\n",
    "    def pv_underlying(self):\n",
    "        \"\"\"\n",
    "        PV of the underlying swap\n",
    "        \"\"\"\n",
    "        phi = 1. if (self.payer_receiver.upper()=='PAYER') else -1.\n",
    "        return phi * self.notional * self.level() * (self.forward() - self.strike)\n",
    "\n",
    "    def market_price(self):\n",
    "        \"\"\"\n",
    "        Swaption price under the Normal model\n",
    "        \"\"\"\n",
    "        phi = 1 if (self.payer_receiver.upper()=='PAYER') else -1\n",
    "        lvl = self.level()\n",
    "        fwd = self.forward()\n",
    "        if (self.expiry==0 or self.normal_vol==0) : return max(phi * (fwd - self.strike), 0)\n",
    "        sqrt_V2T = self.normal_vol * math.sqrt(self.expiry)\n",
    "        d = (fwd - self.strike) / sqrt_V2T\n",
    "        return self.notional * lvl * sqrt_V2T * (phi * d * norm.cdf(phi * d) + norm.pdf(d))\n",
    "\n",
    "    def market_fwd_price(self):\n",
    "        \"\"\"\n",
    "        Swaption forward price under the Normal model\n",
    "        \"\"\"\n",
    "        phi = 1 if (self.payer_receiver.upper()=='PAYER') else -1\n",
    "        lvl = self.level()\n",
    "        fwd = self.forward()\n",
    "        if (self.expiry==0 or self.normal_vol==0) : return max(phi * (fwd - self.strike), 0)\n",
    "        sqrt_V2T = self.normal_vol * math.sqrt(self.expiry)\n",
    "        d = (fwd - self.strike) / sqrt_V2T\n",
    "        return self.notional * sqrt_V2T * (phi * d * norm.cdf(phi * d) + norm.pdf(d))"
   ]
  },
  {
   "cell_type": "markdown",
   "metadata": {
    "id": "Qu9tzW-ma6yC"
   },
   "source": [
    "## The Copula Approach For CMS Spread Options\n",
    "\n"
   ]
  },
  {
   "cell_type": "markdown",
   "metadata": {
    "id": "Fv4d8zPYSnXh"
   },
   "source": [
    "#### The Bivariate Gaussian Copula Density\n",
    "\n",
    "As stated in the first section, we use the following bivariate Gaussian copula density :"
   ]
  },
  {
   "cell_type": "code",
   "execution_count": 3,
   "metadata": {
    "id": "gkke_R2ASm0S"
   },
   "outputs": [],
   "source": [
    "def gaussian_copula(u1, u2, rho):\n",
    "    \"\"\"\n",
    "    The bivariate Gaussian copula density\n",
    "    \"rho\" is the correlation level\n",
    "    \"\"\"\n",
    "    if u1==0 or u2==0 : return 0\n",
    "\n",
    "    exp_num = 2 * rho * norm.ppf(u1) * norm.ppf(u2) - rho**2 * (norm.ppf(u1)**2 + norm.ppf(u2)**2)\n",
    "    exp_den = 2 * (1 - rho**2)\n",
    "    num = math.exp(exp_num / exp_den)\n",
    "    den = math.sqrt(1 - rho**2)\n",
    "    return num / den\n"
   ]
  },
  {
   "cell_type": "markdown",
   "metadata": {
    "id": "UBW7xzTaoVkz"
   },
   "source": [
    "#### The Simpson's Rule\n",
    "\n",
    "The copula pricing method is based on heavy integrations. Therefore, we will use the Simpson's rule as an approximation model to reduce the computations time :"
   ]
  },
  {
   "cell_type": "code",
   "execution_count": 4,
   "metadata": {
    "id": "R38f-nwE7o92"
   },
   "outputs": [],
   "source": [
    "def simpson_integral(givenFunction, h, lx, ux):\n",
    "    \"\"\"\n",
    "    Simpson's rule : An approximation method to single integration\n",
    "    \"h\" is the step size, \"lx\" is the lower bound, and \"ux\" is the upper bound\n",
    "    \"\"\"\n",
    "    # Number of steps\n",
    "    nx = round((ux - lx) / h + 1)\n",
    "\n",
    "    result = 0\n",
    "    for i in range(0, nx):\n",
    "        if i == 0 or i == nx - 1:\n",
    "            result += givenFunction(lx + i * h)\n",
    "        elif i % 2 == 0:\n",
    "            result += 2 * givenFunction(lx + i * h)\n",
    "        else:\n",
    "            result += 4 * givenFunction(lx + i * h)\n",
    "\n",
    "    result *= (h / 3)\n",
    "\n",
    "    return result\n",
    "\n",
    "def simpson_double_integral(givenFunction, h, k, lx, ux, ly, uy):\n",
    "    \"\"\"\n",
    "    Simpson's rule : An approximation method to double integration\n",
    "    \"h\" and \"k\" are the step sizes of (x, y), \"lx\" and \"ly\" are the lower bounds, and \"ux\" and \"uy\" are the upper bounds\n",
    "    \"\"\"\n",
    "    # Number of steps\n",
    "    nx = round((ux - lx) / h + 1)\n",
    "    ny = round((uy - ly) / k + 1)\n",
    "\n",
    "    # 1 - Compute integrals of y via the Simpson's rule for different values of x : lx + i * h\n",
    "    ax = [0] * nx\n",
    "    for i in range(0, nx):\n",
    "        for j in range(0, ny):\n",
    "            if j == 0 or j == ny - 1:\n",
    "                ax[i] += givenFunction(lx + i * h, ly + j * k)\n",
    "            elif j % 2 == 0:\n",
    "                ax[i] += 2 * givenFunction(lx + i * h, ly + j * k)\n",
    "            else:\n",
    "                ax[i] += 4 * givenFunction(lx + i * h, ly + j * k)\n",
    "        ax[i] *= (k / 3)\n",
    "\n",
    "    # 2 - Compute the integral of x by applying the Simpson's rule on the ax values\n",
    "    result = 0\n",
    "    for i in range(0, nx):\n",
    "        if i == 0 or i == nx - 1:\n",
    "            result += ax[i]\n",
    "        elif i % 2 == 0:\n",
    "            result += 2 * ax[i]\n",
    "        else:\n",
    "            result += 4 * ax[i]\n",
    "    result *= (h / 3)\n",
    "\n",
    "    return result"
   ]
  },
  {
   "cell_type": "markdown",
   "metadata": {
    "id": "UUjMKPaZpJWx"
   },
   "source": [
    "#### The Copula Pricing Method"
   ]
  },
  {
   "cell_type": "code",
   "execution_count": 5,
   "metadata": {
    "id": "b4wc4NyZa685"
   },
   "outputs": [],
   "source": [
    "from scipy.integrate import quad, dblquad\n",
    "\n",
    "class copula_method:\n",
    "    \"\"\"\n",
    "    Copula Method : Copula Approach for pricing CMS Spread Options\n",
    "    \"\"\"\n",
    "    def __init__(self, tsr_model):\n",
    "        \"\"\"\n",
    "        Init method\n",
    "        \"\"\"\n",
    "        self.tsr_model = tsr_model\n",
    "        self.df = tsr_model.df\n",
    "\n",
    "    def set_data(self, expiry, cms_tenor_1, cms_tenor_2, pay_date, vol_skew_1, vol_skew_2, correl):\n",
    "        \"\"\"\n",
    "        Set data : Dates, Vol Skews, and Intermidiate Parameters\n",
    "        \"\"\"\n",
    "        # Set dates\n",
    "        self.expiry = expiry\n",
    "        self.cms_tenor_1 = cms_tenor_1\n",
    "        self.cms_tenor_2 = cms_tenor_2\n",
    "        self.pay_date = pay_date\n",
    "        # Set vol skews\n",
    "        self.vol_skew_1 = vol_skew_1\n",
    "        self.vol_skew_2 = vol_skew_2\n",
    "        self.correl = correl\n",
    "        # Set intermediate parameters\n",
    "        self.set_params(expiry, cms_tenor_1, cms_tenor_2, pay_date)\n",
    "\n",
    "    def set_params(self, expiry, cms_tenor_1, cms_tenor_2, pay_date) :\n",
    "        \"\"\"\n",
    "        Set data : Dates, Vol Skews, and Intermidiate Parameters\n",
    "        \"\"\"\n",
    "        # B(0, Tp) computation\n",
    "        self.df_pay_date = self.df(pay_date)\n",
    "        # Start Date = Expiry + 2BD\n",
    "        self.start_time = self.expiry + 2./365.\n",
    "        # Level values\n",
    "        pay_times = np.arange(self.start_time + 1, expiry + cms_tenor_1 + 1)\n",
    "        year_fractions = np.ones(len(pay_times))\n",
    "        self.level_1 = np.sum(self.df(pay_times) * year_fractions)\n",
    "        pay_times = np.arange(self.start_time + 1, self.expiry + self.cms_tenor_2 + 1)\n",
    "        year_fractions = np.ones(len(pay_times))\n",
    "        self.level_2 = np.sum(self.df(pay_times) * year_fractions)\n",
    "        # TSR coeffs\n",
    "        self.tsr_coeffs_1 = self.tsr_model.tsr_coeffs(expiry, cms_tenor_1, pay_date)\n",
    "        self.tsr_coeffs_2 = self.tsr_model.tsr_coeffs(expiry, cms_tenor_2, pay_date)\n",
    "\n",
    "    def pdf_lvl_measure(self, k, cms_tenor, vol_skew):\n",
    "        \"\"\"\n",
    "        PDF under the level measure : Application of the FD method on the Breeden & Litzenberger formula\n",
    "        \"\"\"\n",
    "        swopt = swaption(\"Payer\", self.expiry, cms_tenor, k)\n",
    "        swopt.set_market_data(self.df, vol_skew(k))\n",
    "        # Flavor correction\n",
    "        if k < swopt.forward() :\n",
    "            swopt.payer_receiver = \"Receiver\"\n",
    "        # Central price\n",
    "        price_k = swopt.market_fwd_price()\n",
    "        # 2nd order FD : Central shift of 1 Bps\n",
    "        eps = 0.0001\n",
    "        swopt.strike = k + eps\n",
    "        swopt.set_market_data(self.df, vol_skew(k + eps))\n",
    "        price_k_plus = swopt.market_fwd_price()\n",
    "        swopt.strike = k - eps\n",
    "        swopt.set_market_data(self.df, vol_skew(k - eps))\n",
    "        price_k_minus = swopt.market_fwd_price()\n",
    "        return (price_k_plus + price_k_minus - 2 * price_k) / eps**2\n",
    "\n",
    "    def pdf_fwd_measure(self, k, cms_tenor, lvl, vol_skew, tsr_coeffs):\n",
    "        \"\"\"\n",
    "        PDF under the forward measure : Link through the Radon-Nikodym method\n",
    "        \"\"\"\n",
    "        self.df_pay_date = self.df(self.pay_date)\n",
    "        return (lvl /self.df_pay_date) * (tsr_coeffs[\"a\"] * k + tsr_coeffs[\"b\"]) * self.pdf_lvl_measure(k, cms_tenor, vol_skew)\n",
    "\n",
    "    def cdf_fwd_measure(self, k, cms_tenor, lvl, vol_skew, tsr_coeffs):\n",
    "        \"\"\"\n",
    "        CDF under the forward measure : Integration of the PDF under the forward measure\n",
    "        Simpson's rule & proper bounds are considered for the integration in order to reduce the computations time\n",
    "        \"\"\"\n",
    "        self.df_pay_date = self.df(self.pay_date)\n",
    "        return simpson_integral(lambda s : self.pdf_fwd_measure(s, cms_tenor, lvl, vol_skew, tsr_coeffs), 0.005, -0.04, k) # Step of 50 Bps and lower bound of -4%\n",
    "\n",
    "    def price(self, flavor, strike):\n",
    "        \"\"\"\n",
    "        CMS Spread Option Price\n",
    "        Simpson's rule & proper bounds are considered for the integration in order to reduce the computations time\n",
    "        \"\"\"\n",
    "        # Check the flavor type\n",
    "        if flavor.upper() == \"CAPLET\" :\n",
    "            phi = 1.\n",
    "        elif flavor.upper() == \"FLOORLET\" :\n",
    "            phi = -1.\n",
    "        else :\n",
    "            print(\"Undefined flavor type. Possible values : Caplet or Floorlet.\")\n",
    "            return None \n",
    "\n",
    "        f = lambda s1, s2 : max(phi * (s1 - s2 - strike), 0) * self.pdf_fwd_measure(s1, self.cms_tenor_1, self.level_1, self.vol_skew_1, self.tsr_coeffs_1) * self.pdf_fwd_measure(s2,\n",
    "                            self.cms_tenor_2, self.level_2, self.vol_skew_2, self.tsr_coeffs_2) * gaussian_copula(self.cdf_fwd_measure(s1, self.cms_tenor_1, self.level_1, self.vol_skew_1,\n",
    "                            self.tsr_coeffs_1), self.cdf_fwd_measure(s2, self.cms_tenor_2, self.level_2, self.vol_skew_2, self.tsr_coeffs_2), self.correl)\n",
    "\n",
    "        return self.df_pay_date * simpson_double_integral(f, 0.005, 0.005, -0.04, 0.1, -0.04, 0.1) # Steps of 50 Bps, lower bounds of -4%, and upper bounds of 10%"
   ]
  },
  {
   "cell_type": "markdown",
   "metadata": {
    "id": "ShjCwThvcmUx"
   },
   "source": [
    "## Zero-Coupon Rate Curve\n",
    "\n",
    "We define a Zero-Coupon curve class to construct discount factor curves :"
   ]
  },
  {
   "cell_type": "code",
   "execution_count": 6,
   "metadata": {
    "id": "MDg1UJU3cmfZ"
   },
   "outputs": [],
   "source": [
    "from scipy.interpolate import interp1d\n",
    "\n",
    "class zc_curve :\n",
    "    \"\"\"\n",
    "    Zero-Coupon Rates curve\n",
    "    \"\"\"\n",
    "    def __init__(self, maturities, zc_rates):\n",
    "        \"\"\"\n",
    "        Init method : Takes the IR market tenors and the bootstrapped ZC rates\n",
    "        \"\"\"\n",
    "        self.maturities = maturities\n",
    "        self.zc_rates = zc_rates\n",
    "        # Cubic Interpolation & Extrapolation\n",
    "        self.zc_rates_interp = interp1d(maturities, zc_rates, kind='cubic', fill_value=\"extrapolate\")\n",
    "\n",
    "    def df(self, T):\n",
    "        \"\"\"\n",
    "        Zero-Coupon Discount Factors\n",
    "        \"\"\"\n",
    "        return np.exp(-self.zc_rates_interp(T)*T)"
   ]
  },
  {
   "cell_type": "markdown",
   "metadata": {
    "id": "NtLofgkGWcBA"
   },
   "source": [
    "## Volatility Skew\n",
    "\n",
    "We define a Volatility Skew class to construct normal vol skews through interpolation / extrapolation methods :"
   ]
  },
  {
   "cell_type": "code",
   "execution_count": 7,
   "metadata": {
    "id": "vgELJIS_XTGy"
   },
   "outputs": [],
   "source": [
    "class vol_skew :\n",
    "    \"\"\"\n",
    "    Volatility Skew\n",
    "    \"\"\"\n",
    "    def __init__(self, strikes, vol_data) :\n",
    "        \"\"\"\n",
    "        Init method : Takes the strikes and vol points\n",
    "        \"\"\"\n",
    "        self.strikes = strikes\n",
    "        self.vol_data = vol_data\n",
    "\n",
    "    def vol_skew(self, strike) :\n",
    "        \"\"\"\n",
    "        Construct vol Skews through cubic interpolation and linear extrapolation\n",
    "        Output : normal_vol(expiry, strike)\n",
    "        \"\"\"\n",
    "        if strike < self.strikes[0] or strike > self.strikes[-1] :\n",
    "            return interp1d(self.strikes, self.vol_data, kind='linear', fill_value=\"extrapolate\")(strike)\n",
    "        return interp1d(self.strikes, self.vol_data, kind='cubic', fill_value=\"extrapolate\")(strike)"
   ]
  },
  {
   "cell_type": "markdown",
   "metadata": {
    "id": "CQmCVLUhFSNy"
   },
   "source": [
    "## Application\n",
    "\n",
    "Let us compute prices of 10Y-2Y CMS spread options with an expiry of 5Y, asof 1st Febrary 2024 :"
   ]
  },
  {
   "cell_type": "code",
   "execution_count": 8,
   "metadata": {
    "id": "nYnrpg6bFVBA"
   },
   "outputs": [],
   "source": [
    "# IR yield curve asof 1st Febrary 2024 (EURIBOR 6M)\n",
    "maturities = np.array([0.5, 1, 2, 5, 6, 8, 10, 15, 20, 30])\n",
    "zc_rates = np.array([3.84, 3.41, 2.84, 2.48, 2.47, 2.49, 2.52, 2.6, 2.53, 2.28]) / 100\n",
    "yc = zc_curve(maturities, zc_rates)\n",
    "\n",
    "# Expiry & Pay Dates\n",
    "expiry = 5.\n",
    "pay_date = expiry + 4. / 365.\n",
    "\n",
    "# Normal Market Volatilities asof 1st Febrary 2024 (EURIBOR 6M) : Expiry 5Y x Tenor 10Y\n",
    "tenor_10y = 10.\n",
    "strikes_5y10y = np.array([1.18, 1.68, 2.18, 2.68, 3.68, 4.68, 5.18]) / 100.\n",
    "normal_vols_5y10y = np.array([84.70, 83.81, 83.76, 84.74, 89.82, 98.07, 102.91]) / 10000.\n",
    "vol_skew_5y10y = lambda k : vol_skew(strikes_5y10y, normal_vols_5y10y).vol_skew(k)\n",
    "\n",
    "# Normal Market Volatilities asof 1st Febrary 2024 (EURIBOR 6M) : Expiry 5Y x Tenor 2Y\n",
    "tenor_2y = 2.\n",
    "strikes_5y2y = np.array([0.99, 1.49, 1.99, 2.49, 3.49, 4.49, 4.99]) / 100.\n",
    "normal_vols_5y2y = np.array([88.44, 88.72, 89.62, 91.21, 96.39, 103.72, 107.93]) / 10000.\n",
    "vol_skew_5y2y = lambda k : vol_skew(strikes_5y2y, normal_vols_5y2y).vol_skew(k)\n",
    "\n",
    "# 5Y Correlation : CMS10Y x CMS2Y\n",
    "corr_5y = 0.81\n",
    "\n",
    "# TSR Model :\n",
    "tsr = tsr_model(yc.df)\n",
    "\n",
    "# CMS Convexity Adjustment : Swap 5Yx10Y to be paid in 6Y\n",
    "copula_method = copula_method(tsr)\n",
    "copula_method.set_data(expiry, tenor_10y, tenor_2y, pay_date, vol_skew_5y10y, vol_skew_5y2y, corr_5y)"
   ]
  },
  {
   "cell_type": "markdown",
   "metadata": {
    "id": "5oapizj_i_z2"
   },
   "source": [
    "#### Normal Volatility Skews"
   ]
  },
  {
   "cell_type": "code",
   "execution_count": 9,
   "metadata": {
    "colab": {
     "base_uri": "https://localhost:8080/",
     "height": 430
    },
    "id": "mC39sDYJsXSf",
    "outputId": "c2b30a06-1379-4a91-d9fa-c95132bf350c"
   },
   "outputs": [
    {
     "data": {
      "image/png": "[encoded data removed]",
      "text/plain": [
       "<Figure size 432x288 with 1 Axes>"
      ]
     },
     "metadata": {
      "needs_background": "light"
     },
     "output_type": "display_data"
    }
   ],
   "source": [
    "import matplotlib.pyplot as plt\n",
    "\n",
    "strikes = np.linspace(-0.05, 0.1, 31)\n",
    "vol_skew_2y = [vol_skew_5y2y(k) for k in strikes]\n",
    "vol_skew_10y = [vol_skew_5y10y(k) for k in strikes]\n",
    "plt.scatter(strikes, vol_skew_2y, color=\"red\", label=\"Normal Vol 5Yx2Y (Bps)\")\n",
    "plt.scatter(strikes, vol_skew_10y, color=\"blue\",  label=\"Normal Vol 5Yx10Y (Bps)\")\n",
    "plt.legend(loc=\"upper left\")\n",
    "plt.show()"
   ]
  },
  {
   "cell_type": "markdown",
   "metadata": {
    "id": "QyI2uatxjIpA"
   },
   "source": [
    "#### PDF under the Level measure\n",
    "\n",
    "Since the swaption market model used in this project is the normal (Bachelier), we expect the stripped PDF under the level measure to be similar to the normal distribution density function. Moreover, we also expect it to have more kurtosis and \"fat\" tails (especially on the right) thanks to the skew of normal volatilities used in our pricing."
   ]
  },
  {
   "cell_type": "code",
   "execution_count": 10,
   "metadata": {
    "colab": {
     "base_uri": "https://localhost:8080/",
     "height": 430
    },
    "id": "ERh_4NeFuR4p",
    "outputId": "67a872d9-5615-4bf5-9491-a152b7a405f5"
   },
   "outputs": [
    {
     "data": {
      "image/png": "[encoded data removed]",
      "text/plain": [
       "<Figure size 432x288 with 1 Axes>"
      ]
     },
     "metadata": {
      "needs_background": "light"
     },
     "output_type": "display_data"
    }
   ],
   "source": [
    "pdf_lvl_measure_2y = [copula_method.pdf_lvl_measure(k, tenor_2y, vol_skew_5y2y) for k in strikes]\n",
    "pdf_lvl_measure_2y = [copula_method.pdf_lvl_measure(k, tenor_2y, vol_skew_5y2y) for k in strikes]\n",
    "pdf_lvl_measure_10y = [copula_method.pdf_lvl_measure(k, tenor_10y, vol_skew_5y10y) for k in strikes]\n",
    "plt.scatter(strikes, pdf_lvl_measure_2y, color=\"red\", label=\"LVL PDF 5Yx2Y\")\n",
    "plt.scatter(strikes, pdf_lvl_measure_10y, color=\"blue\",  label=\"LVL PDF 5Yx10Y\")\n",
    "plt.legend(loc=\"upper left\")\n",
    "plt.show()"
   ]
  },
  {
   "cell_type": "markdown",
   "metadata": {
    "id": "I-egWlLJjNYW"
   },
   "source": [
    "#### CMS Spread Options Prices"
   ]
  },
  {
   "cell_type": "code",
   "execution_count": 11,
   "metadata": {
    "colab": {
     "base_uri": "https://localhost:8080/"
    },
    "id": "HiBvFicCMveD",
    "outputId": "1eb1d673-84dd-4e7a-dad8-2f98b7d5f35c"
   },
   "outputs": [
    {
     "name": "stdout",
     "output_type": "stream",
     "text": [
      "The price of 10Y-2Y Caplet CMS Spread Option with Expiry=5Y & Strike=0.002 is : 51.0 Bps\n",
      "The price of 10Y-2Y Caplet CMS Spread Option with Expiry=5Y & Strike=0.003 is : 46.32 Bps\n",
      "The price of 10Y-2Y Caplet CMS Spread Option with Expiry=5Y & Strike=0.004 is : 41.65 Bps\n"
     ]
    }
   ],
   "source": [
    "strikes = np.linspace(0.002, 0.004, 3)\n",
    "for strike in strikes :\n",
    "    print(\"The price of 10Y-2Y Caplet CMS Spread Option with Expiry=5Y & Strike=\" + str(strike) + \" is : \" + str(round(10000. * copula_method.price(\"Caplet\", strike), 2)) + \" Bps\")"
   ]
  },
  {
   "cell_type": "code",
   "execution_count": 12,
   "metadata": {
    "colab": {
     "base_uri": "https://localhost:8080/"
    },
    "id": "zpTp3KUhtBjd",
    "outputId": "8401bc60-1d85-451d-bbad-ec5174764de5"
   },
   "outputs": [
    {
     "name": "stdout",
     "output_type": "stream",
     "text": [
      "The price of 10Y-2Y Fllorlet CMS Spread Option with Expiry=5Y & Strike=0.002 is : 36.92 Bps\n",
      "The price of 10Y-2Y Fllorlet CMS Spread Option with Expiry=5Y & Strike=0.003 is : 41.07 Bps\n",
      "The price of 10Y-2Y Fllorlet CMS Spread Option with Expiry=5Y & Strike=0.004 is : 45.21 Bps\n"
     ]
    }
   ],
   "source": [
    "for strike in strikes :\n",
    "    print(\"The price of 10Y-2Y Fllorlet CMS Spread Option with Expiry=5Y & Strike=\" + str(strike) + \" is : \" + str(round(10000. * copula_method.price(\"Floorlet\", strike), 2)) + \" Bps\")"
   ]
  }
 ],
 "metadata": {
  "colab": {
   "provenance": []
  },
  "kernelspec": {
   "display_name": "Python 3 (ipykernel)",
   "language": "python",
   "name": "python3"
  },
  "language_info": {
   "codemirror_mode": {
    "name": "ipython",
    "version": 3
   },
   "file_extension": ".py",
   "mimetype": "text/x-python",
   "name": "python",
   "nbconvert_exporter": "python",
   "pygments_lexer": "ipython3",
   "version": "3.9.12"
  }
 },
 "nbformat": 4,
 "nbformat_minor": 1
}
